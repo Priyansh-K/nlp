{
 "cells": [
  {
   "cell_type": "markdown",
   "id": "3fba9b01",
   "metadata": {},
   "source": [
    "## Freq dist"
   ]
  },
  {
   "cell_type": "code",
   "execution_count": 1,
   "id": "ca35b2ae",
   "metadata": {},
   "outputs": [],
   "source": [
    "import nltk"
   ]
  },
  {
   "cell_type": "code",
   "execution_count": 2,
   "id": "a89045ba",
   "metadata": {},
   "outputs": [
    {
     "data": {
      "text/plain": [
       "FreqDist({'the': 16, 'and': 4, 'to': 4, 'final': 3, 'a': 3, 'first': 3, 'since': 3, 'Golden': 3, 'tournaments': 3, 'best': 3, ...})"
      ]
     },
     "execution_count": 2,
     "metadata": {},
     "output_type": "execute_result"
    }
   ],
   "source": [
    "text1 = 'Argentina were crowned the champions after winning the final against the title holder France 4–2 on penalties following a 3–3 draw after extra time. It was Argentinas third title and their first since 1986, as well being the first nation from South America to win the tournament since 2002. French player Kylian Mbappé became the first player to score a hat-trick in a World Cup final since Geoff Hurst in the 1966 final and won the Golden Boot as he scored the most goals (eight) during the tournament. Argentine captain Lionel Messi was voted the tournaments best player, winning the Golden Ball. Teammates Emiliano Martínez and Enzo Fernández won the Golden Glove, awarded to the tournaments best goalkeeper, and the Young Player Award, awarded to the tournaments best young player, respectively.'\n",
    "fd = nltk.FreqDist(text1.split())\n",
    "fd"
   ]
  },
  {
   "cell_type": "markdown",
   "id": "a796c10b",
   "metadata": {},
   "source": [
    "## Conditional freq "
   ]
  },
  {
   "cell_type": "code",
   "execution_count": 3,
   "id": "4221a91a",
   "metadata": {},
   "outputs": [],
   "source": [
    "from nltk.probability import ConditionalFreqDist"
   ]
  },
  {
   "cell_type": "code",
   "execution_count": 4,
   "id": "fab9e496",
   "metadata": {},
   "outputs": [
    {
     "data": {
      "text/plain": [
       "FreqDist({'best': 3, 'were': 1, 'draw': 1, 'well': 1, 'from': 1, '1966': 1, 'Boot': 1, 'most': 1, 'Enzo': 1})"
      ]
     },
     "execution_count": 4,
     "metadata": {},
     "output_type": "execute_result"
    }
   ],
   "source": [
    "cfd = ConditionalFreqDist((len(word), word) for word in text1.split())\n",
    "cfd[4]"
   ]
  },
  {
   "cell_type": "markdown",
   "id": "4543ecb7",
   "metadata": {},
   "source": [
    "#### determine frequency distribution and Conditional Frequency Distribution of any one of the Presidential addresses."
   ]
  },
  {
   "cell_type": "code",
   "execution_count": 5,
   "id": "e29150d8",
   "metadata": {},
   "outputs": [],
   "source": [
    "from nltk.corpus import inaugural\n",
    "cfd = ConditionalFreqDist((len(word), word) for word in inaugural.words(fileids = '1861-lincoln.txt'))"
   ]
  },
  {
   "cell_type": "code",
   "execution_count": 6,
   "id": "3ed5fe16",
   "metadata": {},
   "outputs": [
    {
     "data": {
      "text/plain": [
       "<ConditionalFreqDist with 16 conditions>"
      ]
     },
     "execution_count": 6,
     "metadata": {},
     "output_type": "execute_result"
    }
   ],
   "source": [
    "cfd"
   ]
  },
  {
   "cell_type": "code",
   "execution_count": 7,
   "id": "380a9c15",
   "metadata": {},
   "outputs": [
    {
     "data": {
      "text/plain": [
       "FreqDist({'that': 57, 'will': 25, 'this': 23, 'with': 20, 'have': 20, 'from': 16, 'such': 15, 'upon': 15, 'them': 13, 'than': 13, ...})"
      ]
     },
     "execution_count": 7,
     "metadata": {},
     "output_type": "execute_result"
    }
   ],
   "source": [
    "cfd[4]"
   ]
  },
  {
   "cell_type": "code",
   "execution_count": 8,
   "id": "41a46a0b",
   "metadata": {},
   "outputs": [
    {
     "data": {
      "text/plain": [
       "FreqDist({'the': 240, ',': 195, 'of': 146, 'to': 132, '.': 110, 'and': 101, 'be': 76, 'in': 72, 'that': 57, 'a': 53, ...})"
      ]
     },
     "execution_count": 8,
     "metadata": {},
     "output_type": "execute_result"
    }
   ],
   "source": [
    "word = nltk.FreqDist(inaugural.words(fileids = '1861-lincoln.txt'))\n",
    "word\n"
   ]
  },
  {
   "cell_type": "markdown",
   "id": "5c622970",
   "metadata": {},
   "source": [
    "### Jieba "
   ]
  },
  {
   "cell_type": "code",
   "execution_count": 9,
   "id": "2cf1b2ef",
   "metadata": {},
   "outputs": [
    {
     "name": "stderr",
     "output_type": "stream",
     "text": [
      "Building prefix dict from the default dictionary ...\n",
      "Loading model from cache C:\\Users\\PRIYAN~1\\AppData\\Local\\Temp\\jieba.cache\n",
      "Loading model cost 0.960 seconds.\n",
      "Prefix dict has been built successfully.\n"
     ]
    },
    {
     "name": "stdout",
     "output_type": "stream",
     "text": [
      "意 兌 背 的 古 夏 用 下 經 ： 有 青 候 姊 收 「 愛 實 夕 荷 具 親 抄 化 免 功 」 學 只 夏 司 斗 ！ 姊 讀 面 汁 年 幾 英 土 成 男 寺 服 王 果 呢 三 、 尾身 圓 穴 連 完 抄 打 再 ； 扒 丟 馬 穴 馬 公 菜\n"
     ]
    }
   ],
   "source": [
    "import jieba \n",
    "seg = jieba.cut(\"意兌背的古夏用下經：有青候姊收「愛實夕荷具親抄化免功」學只夏司斗！姊讀面汁年幾英土成男寺服王果呢三、尾身圓穴連完抄打再；扒丟馬穴馬公菜\", cut_all = True)\n",
    "print(\" \".join(seg))"
   ]
  },
  {
   "cell_type": "markdown",
   "id": "566c865c",
   "metadata": {},
   "source": [
    "## Basic Text Processing Pipeline"
   ]
  },
  {
   "cell_type": "code",
   "execution_count": 10,
   "id": "f5b88df8",
   "metadata": {},
   "outputs": [
    {
     "name": "stdout",
     "output_type": "stream",
     "text": [
      "['Argentina', 'were', 'crowned', 'the', 'champions', 'after', 'winning', 'the', 'final', 'against', 'the', 'title', 'holder', 'France', '4–2', 'on', 'penalties', 'following', 'a', '3–3', 'draw', 'after', 'extra', 'time', '.', 'It', 'was', 'Argentinas', 'third', 'title', 'and', 'their', 'first', 'since', '1986', ',', 'as', 'well', 'being', 'the', 'first', 'nation', 'from', 'South', 'America', 'to', 'win', 'the', 'tournament', 'since', '2002', '.', 'French', 'player', 'Kylian', 'Mbappé', 'became', 'the', 'first', 'player', 'to', 'score', 'a', 'hat-trick', 'in', 'a', 'World', 'Cup', 'final', 'since', 'Geoff', 'Hurst', 'in', 'the', '1966', 'final', 'and', 'won', 'the', 'Golden', 'Boot', 'as', 'he', 'scored', 'the', 'most', 'goals', '(', 'eight', ')', 'during', 'the', 'tournament', '.', 'Argentine', 'captain', 'Lionel', 'Messi', 'was', 'voted', 'the', 'tournaments', 'best', 'player', ',', 'winning', 'the', 'Golden', 'Ball', '.', 'Teammates', 'Emiliano', 'Martínez', 'and', 'Enzo', 'Fernández', 'won', 'the', 'Golden', 'Glove', ',', 'awarded', 'to', 'the', 'tournaments', 'best', 'goalkeeper', ',', 'and', 'the', 'Young', 'Player', 'Award', ',', 'awarded', 'to', 'the', 'tournaments', 'best', 'young', 'player', ',', 'respectively', '.']\n"
     ]
    }
   ],
   "source": [
    "sent = \"Argentina were crowned the champions after winning the final against the title holder France 4–2 on penalties following a 3–3 draw after extra time. It was Argentinas third title and their first since 1986, as well being the first nation from South America to win the tournament since 2002. French player Kylian Mbappé became the first player to score a hat-trick in a World Cup final since Geoff Hurst in the 1966 final and won the Golden Boot as he scored the most goals (eight) during the tournament. Argentine captain Lionel Messi was voted the tournaments best player, winning the Golden Ball. Teammates Emiliano Martínez and Enzo Fernández won the Golden Glove, awarded to the tournaments best goalkeeper, and the Young Player Award, awarded to the tournaments best young player, respectively.\"\n",
    "words = nltk.word_tokenize(sent)\n",
    "print(words)"
   ]
  },
  {
   "cell_type": "code",
   "execution_count": 11,
   "id": "ccf52f64",
   "metadata": {},
   "outputs": [
    {
     "name": "stdout",
     "output_type": "stream",
     "text": [
      "['``', 'Argentina', 'were', 'crowned', 'the', 'champions', 'after', 'winning', 'the', 'final', 'against', 'the', 'title', 'holder', 'France', '4–2', 'on', 'penalties', 'following', 'a', '3–3', 'draw', 'after', 'extra', 'time', '.']\n",
      "[('``', '``'), ('Argentina', 'NNP'), ('were', 'VBD'), ('crowned', 'VBN'), ('the', 'DT'), ('champions', 'NNS'), ('after', 'IN'), ('winning', 'VBG'), ('the', 'DT'), ('final', 'JJ'), ('against', 'IN'), ('the', 'DT'), ('title', 'JJ'), ('holder', 'NN'), ('France', 'NNP'), ('4–2', 'CD'), ('on', 'IN'), ('penalties', 'NNS'), ('following', 'VBG'), ('a', 'DT'), ('3–3', 'CD'), ('draw', 'NN'), ('after', 'IN'), ('extra', 'JJ'), ('time', 'NN'), ('.', '.')]\n",
      "['It', 'was', 'Argentinas', 'third', 'title', 'and', 'their', 'first', 'since', '1986', ',', 'as', 'well', 'being', 'the', 'first', 'nation', 'from', 'South', 'America', 'to', 'win', 'the', 'tournament', 'since', '2002', '.']\n",
      "[('It', 'PRP'), ('was', 'VBD'), ('Argentinas', 'NNP'), ('third', 'JJ'), ('title', 'NN'), ('and', 'CC'), ('their', 'PRP$'), ('first', 'JJ'), ('since', 'IN'), ('1986', 'CD'), (',', ','), ('as', 'RB'), ('well', 'RB'), ('being', 'VBG'), ('the', 'DT'), ('first', 'JJ'), ('nation', 'NN'), ('from', 'IN'), ('South', 'NNP'), ('America', 'NNP'), ('to', 'TO'), ('win', 'VB'), ('the', 'DT'), ('tournament', 'NN'), ('since', 'IN'), ('2002', 'CD'), ('.', '.')]\n",
      "['French', 'player', 'Kylian', 'Mbappé', 'became', 'the', 'first', 'player', 'to', 'score', 'a', 'hat-trick', 'in', 'a', 'World', 'Cup', 'final', 'since', 'Geoff', 'Hurst', 'in', 'the', '1966', 'final', 'and', 'won', 'the', 'Golden', 'Boot', 'as', 'he', 'scored', 'the', 'most', 'goals', '(', 'eight', ')', 'during', 'the', 'tournament', '.']\n",
      "[('French', 'JJ'), ('player', 'NN'), ('Kylian', 'NNP'), ('Mbappé', 'NNP'), ('became', 'VBD'), ('the', 'DT'), ('first', 'JJ'), ('player', 'NN'), ('to', 'TO'), ('score', 'VB'), ('a', 'DT'), ('hat-trick', 'NN'), ('in', 'IN'), ('a', 'DT'), ('World', 'NNP'), ('Cup', 'NNP'), ('final', 'JJ'), ('since', 'IN'), ('Geoff', 'NNP'), ('Hurst', 'NNP'), ('in', 'IN'), ('the', 'DT'), ('1966', 'CD'), ('final', 'JJ'), ('and', 'CC'), ('won', 'VBD'), ('the', 'DT'), ('Golden', 'NNP'), ('Boot', 'NNP'), ('as', 'IN'), ('he', 'PRP'), ('scored', 'VBD'), ('the', 'DT'), ('most', 'RBS'), ('goals', 'NNS'), ('(', '('), ('eight', 'CD'), (')', ')'), ('during', 'IN'), ('the', 'DT'), ('tournament', 'NN'), ('.', '.')]\n",
      "['Argentine', 'captain', 'Lionel', 'Messi', 'was', 'voted', 'the', 'tournaments', 'best', 'player', ',', 'winning', 'the', 'Golden', 'Ball', '.']\n",
      "[('Argentine', 'NNP'), ('captain', 'NN'), ('Lionel', 'NNP'), ('Messi', 'NNP'), ('was', 'VBD'), ('voted', 'VBN'), ('the', 'DT'), ('tournaments', 'NNS'), ('best', 'JJS'), ('player', 'NN'), (',', ','), ('winning', 'VBG'), ('the', 'DT'), ('Golden', 'NNP'), ('Ball', 'NNP'), ('.', '.')]\n",
      "['Teammates', 'Emiliano', 'Martínez', 'and', 'Enzo', 'Fernández', 'won', 'the', 'Golden', 'Glove', ',', 'awarded', 'to', 'the', 'tournaments', 'best', 'goalkeeper', ',', 'and', 'the', 'Young', 'Player', 'Award', ',', 'awarded', 'to', 'the', 'tournaments', 'best', 'young', 'player', ',', 'respectively', '.']\n",
      "[('Teammates', 'NNS'), ('Emiliano', 'NNP'), ('Martínez', 'NNP'), ('and', 'CC'), ('Enzo', 'NNP'), ('Fernández', 'NNP'), ('won', 'VBD'), ('the', 'DT'), ('Golden', 'NNP'), ('Glove', 'NNP'), (',', ','), ('awarded', 'VBD'), ('to', 'TO'), ('the', 'DT'), ('tournaments', 'NNS'), ('best', 'JJS'), ('goalkeeper', 'NN'), (',', ','), ('and', 'CC'), ('the', 'DT'), ('Young', 'NNP'), ('Player', 'NNP'), ('Award', 'NNP'), (',', ','), ('awarded', 'VBD'), ('to', 'TO'), ('the', 'DT'), ('tournaments', 'NNS'), ('best', 'JJS'), ('young', 'JJ'), ('player', 'NN'), (',', ','), ('respectively', 'RB'), ('.', '.')]\n"
     ]
    }
   ],
   "source": [
    "texts = [\"\"\"\"Argentina were crowned the champions after winning the final against the title holder France 4–2 on penalties following a 3–3 draw after extra time. It was Argentinas third title and their first since 1986, as well being the first nation from South America to win the tournament since 2002. French player Kylian Mbappé became the first player to score a hat-trick in a World Cup final since Geoff Hurst in the 1966 final and won the Golden Boot as he scored the most goals (eight) during the tournament. Argentine captain Lionel Messi was voted the tournaments best player, winning the Golden Ball. Teammates Emiliano Martínez and Enzo Fernández won the Golden Glove, awarded to the tournaments best goalkeeper, and the Young Player Award, awarded to the tournaments best young player, respectively.\"\"\"]\n",
    "for text in texts:\n",
    "    sentences = nltk.sent_tokenize(text)\n",
    "    for sentence in sentences:\n",
    "        words = nltk.word_tokenize(sentence)\n",
    "        print(words)\n",
    "        tagged = nltk.pos_tag(words)\n",
    "        print(tagged)"
   ]
  },
  {
   "cell_type": "code",
   "execution_count": null,
   "id": "e9d6bb7f",
   "metadata": {},
   "outputs": [],
   "source": []
  }
 ],
 "metadata": {
  "kernelspec": {
   "display_name": "Python 3 (ipykernel)",
   "language": "python",
   "name": "python3"
  },
  "language_info": {
   "codemirror_mode": {
    "name": "ipython",
    "version": 3
   },
   "file_extension": ".py",
   "mimetype": "text/x-python",
   "name": "python",
   "nbconvert_exporter": "python",
   "pygments_lexer": "ipython3",
   "version": "3.10.2"
  }
 },
 "nbformat": 4,
 "nbformat_minor": 5
}
